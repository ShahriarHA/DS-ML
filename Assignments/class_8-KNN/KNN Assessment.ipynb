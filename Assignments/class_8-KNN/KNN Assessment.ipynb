{
 "cells": [
  {
   "cell_type": "code",
   "execution_count": 1,
   "id": "37ad141a",
   "metadata": {},
   "outputs": [],
   "source": [
    "import pandas as pd \n",
    "import warnings as wr \n",
    "wr.filterwarnings('ignore') "
   ]
  },
  {
   "cell_type": "code",
   "execution_count": 2,
   "id": "baa3b022",
   "metadata": {},
   "outputs": [
    {
     "data": {
      "text/html": [
       "<div>\n",
       "<style scoped>\n",
       "    .dataframe tbody tr th:only-of-type {\n",
       "        vertical-align: middle;\n",
       "    }\n",
       "\n",
       "    .dataframe tbody tr th {\n",
       "        vertical-align: top;\n",
       "    }\n",
       "\n",
       "    .dataframe thead th {\n",
       "        text-align: right;\n",
       "    }\n",
       "</style>\n",
       "<table border=\"1\" class=\"dataframe\">\n",
       "  <thead>\n",
       "    <tr style=\"text-align: right;\">\n",
       "      <th></th>\n",
       "      <th>Gender</th>\n",
       "      <th>Height</th>\n",
       "      <th>Weight</th>\n",
       "    </tr>\n",
       "  </thead>\n",
       "  <tbody>\n",
       "    <tr>\n",
       "      <th>0</th>\n",
       "      <td>Male</td>\n",
       "      <td>73.847017</td>\n",
       "      <td>241.893563</td>\n",
       "    </tr>\n",
       "    <tr>\n",
       "      <th>1</th>\n",
       "      <td>Male</td>\n",
       "      <td>68.781904</td>\n",
       "      <td>162.310473</td>\n",
       "    </tr>\n",
       "    <tr>\n",
       "      <th>2</th>\n",
       "      <td>Male</td>\n",
       "      <td>74.110105</td>\n",
       "      <td>212.740856</td>\n",
       "    </tr>\n",
       "    <tr>\n",
       "      <th>3</th>\n",
       "      <td>Male</td>\n",
       "      <td>71.730978</td>\n",
       "      <td>220.042470</td>\n",
       "    </tr>\n",
       "    <tr>\n",
       "      <th>4</th>\n",
       "      <td>Male</td>\n",
       "      <td>69.881796</td>\n",
       "      <td>206.349801</td>\n",
       "    </tr>\n",
       "  </tbody>\n",
       "</table>\n",
       "</div>"
      ],
      "text/plain": [
       "  Gender     Height      Weight\n",
       "0   Male  73.847017  241.893563\n",
       "1   Male  68.781904  162.310473\n",
       "2   Male  74.110105  212.740856\n",
       "3   Male  71.730978  220.042470\n",
       "4   Male  69.881796  206.349801"
      ]
     },
     "execution_count": 2,
     "metadata": {},
     "output_type": "execute_result"
    }
   ],
   "source": [
    "df = pd.read_csv('weight-height.csv')\n",
    "df.head()"
   ]
  },
  {
   "cell_type": "code",
   "execution_count": 3,
   "id": "66a9e88d",
   "metadata": {},
   "outputs": [],
   "source": [
    "from sklearn.preprocessing import LabelEncoder\n",
    "le = LabelEncoder()"
   ]
  },
  {
   "cell_type": "code",
   "execution_count": 4,
   "id": "0a43e3ce",
   "metadata": {},
   "outputs": [],
   "source": [
    "df.Gender = le.fit_transform(df[['Gender']])"
   ]
  },
  {
   "cell_type": "code",
   "execution_count": 5,
   "id": "ab8f5719",
   "metadata": {},
   "outputs": [
    {
     "data": {
      "text/html": [
       "<div>\n",
       "<style scoped>\n",
       "    .dataframe tbody tr th:only-of-type {\n",
       "        vertical-align: middle;\n",
       "    }\n",
       "\n",
       "    .dataframe tbody tr th {\n",
       "        vertical-align: top;\n",
       "    }\n",
       "\n",
       "    .dataframe thead th {\n",
       "        text-align: right;\n",
       "    }\n",
       "</style>\n",
       "<table border=\"1\" class=\"dataframe\">\n",
       "  <thead>\n",
       "    <tr style=\"text-align: right;\">\n",
       "      <th></th>\n",
       "      <th>Gender</th>\n",
       "      <th>Height</th>\n",
       "      <th>Weight</th>\n",
       "    </tr>\n",
       "  </thead>\n",
       "  <tbody>\n",
       "    <tr>\n",
       "      <th>0</th>\n",
       "      <td>1</td>\n",
       "      <td>73.847017</td>\n",
       "      <td>241.893563</td>\n",
       "    </tr>\n",
       "    <tr>\n",
       "      <th>1</th>\n",
       "      <td>1</td>\n",
       "      <td>68.781904</td>\n",
       "      <td>162.310473</td>\n",
       "    </tr>\n",
       "    <tr>\n",
       "      <th>2</th>\n",
       "      <td>1</td>\n",
       "      <td>74.110105</td>\n",
       "      <td>212.740856</td>\n",
       "    </tr>\n",
       "    <tr>\n",
       "      <th>3</th>\n",
       "      <td>1</td>\n",
       "      <td>71.730978</td>\n",
       "      <td>220.042470</td>\n",
       "    </tr>\n",
       "    <tr>\n",
       "      <th>4</th>\n",
       "      <td>1</td>\n",
       "      <td>69.881796</td>\n",
       "      <td>206.349801</td>\n",
       "    </tr>\n",
       "  </tbody>\n",
       "</table>\n",
       "</div>"
      ],
      "text/plain": [
       "   Gender     Height      Weight\n",
       "0       1  73.847017  241.893563\n",
       "1       1  68.781904  162.310473\n",
       "2       1  74.110105  212.740856\n",
       "3       1  71.730978  220.042470\n",
       "4       1  69.881796  206.349801"
      ]
     },
     "execution_count": 5,
     "metadata": {},
     "output_type": "execute_result"
    }
   ],
   "source": [
    "df.head()"
   ]
  },
  {
   "cell_type": "code",
   "execution_count": 6,
   "id": "3573e06c",
   "metadata": {},
   "outputs": [
    {
     "data": {
      "text/html": [
       "<div>\n",
       "<style scoped>\n",
       "    .dataframe tbody tr th:only-of-type {\n",
       "        vertical-align: middle;\n",
       "    }\n",
       "\n",
       "    .dataframe tbody tr th {\n",
       "        vertical-align: top;\n",
       "    }\n",
       "\n",
       "    .dataframe thead th {\n",
       "        text-align: right;\n",
       "    }\n",
       "</style>\n",
       "<table border=\"1\" class=\"dataframe\">\n",
       "  <thead>\n",
       "    <tr style=\"text-align: right;\">\n",
       "      <th></th>\n",
       "      <th>Gender</th>\n",
       "      <th>Height</th>\n",
       "      <th>Weight</th>\n",
       "    </tr>\n",
       "  </thead>\n",
       "  <tbody>\n",
       "    <tr>\n",
       "      <th>8550</th>\n",
       "      <td>0</td>\n",
       "      <td>60.483946</td>\n",
       "      <td>110.565497</td>\n",
       "    </tr>\n",
       "    <tr>\n",
       "      <th>8551</th>\n",
       "      <td>0</td>\n",
       "      <td>63.423372</td>\n",
       "      <td>129.921671</td>\n",
       "    </tr>\n",
       "    <tr>\n",
       "      <th>8552</th>\n",
       "      <td>0</td>\n",
       "      <td>65.584057</td>\n",
       "      <td>155.942671</td>\n",
       "    </tr>\n",
       "    <tr>\n",
       "      <th>8553</th>\n",
       "      <td>0</td>\n",
       "      <td>67.429971</td>\n",
       "      <td>151.678405</td>\n",
       "    </tr>\n",
       "    <tr>\n",
       "      <th>8554</th>\n",
       "      <td>0</td>\n",
       "      <td>60.921791</td>\n",
       "      <td>131.253738</td>\n",
       "    </tr>\n",
       "  </tbody>\n",
       "</table>\n",
       "</div>"
      ],
      "text/plain": [
       "      Gender     Height      Weight\n",
       "8550       0  60.483946  110.565497\n",
       "8551       0  63.423372  129.921671\n",
       "8552       0  65.584057  155.942671\n",
       "8553       0  67.429971  151.678405\n",
       "8554       0  60.921791  131.253738"
      ]
     },
     "execution_count": 6,
     "metadata": {},
     "output_type": "execute_result"
    }
   ],
   "source": [
    "df.tail()"
   ]
  },
  {
   "cell_type": "markdown",
   "id": "25936242",
   "metadata": {},
   "source": [
    "# Go Ahead"
   ]
  },
  {
   "cell_type": "code",
   "execution_count": 9,
   "id": "33d077e4",
   "metadata": {},
   "outputs": [
    {
     "data": {
      "text/html": [
       "<div>\n",
       "<style scoped>\n",
       "    .dataframe tbody tr th:only-of-type {\n",
       "        vertical-align: middle;\n",
       "    }\n",
       "\n",
       "    .dataframe tbody tr th {\n",
       "        vertical-align: top;\n",
       "    }\n",
       "\n",
       "    .dataframe thead th {\n",
       "        text-align: right;\n",
       "    }\n",
       "</style>\n",
       "<table border=\"1\" class=\"dataframe\">\n",
       "  <thead>\n",
       "    <tr style=\"text-align: right;\">\n",
       "      <th></th>\n",
       "      <th>Gender</th>\n",
       "      <th>Height</th>\n",
       "    </tr>\n",
       "  </thead>\n",
       "  <tbody>\n",
       "    <tr>\n",
       "      <th>0</th>\n",
       "      <td>1</td>\n",
       "      <td>73.847017</td>\n",
       "    </tr>\n",
       "    <tr>\n",
       "      <th>1</th>\n",
       "      <td>1</td>\n",
       "      <td>68.781904</td>\n",
       "    </tr>\n",
       "    <tr>\n",
       "      <th>2</th>\n",
       "      <td>1</td>\n",
       "      <td>74.110105</td>\n",
       "    </tr>\n",
       "    <tr>\n",
       "      <th>3</th>\n",
       "      <td>1</td>\n",
       "      <td>71.730978</td>\n",
       "    </tr>\n",
       "    <tr>\n",
       "      <th>4</th>\n",
       "      <td>1</td>\n",
       "      <td>69.881796</td>\n",
       "    </tr>\n",
       "  </tbody>\n",
       "</table>\n",
       "</div>"
      ],
      "text/plain": [
       "   Gender     Height\n",
       "0       1  73.847017\n",
       "1       1  68.781904\n",
       "2       1  74.110105\n",
       "3       1  71.730978\n",
       "4       1  69.881796"
      ]
     },
     "execution_count": 9,
     "metadata": {},
     "output_type": "execute_result"
    }
   ],
   "source": [
    "x = df.drop([\"Weight\"],axis=1)\n",
    "x.head()"
   ]
  },
  {
   "cell_type": "code",
   "execution_count": 10,
   "id": "484d5c50-ac87-4648-83e9-3a1eaab2965d",
   "metadata": {},
   "outputs": [
    {
     "data": {
      "text/plain": [
       "(8555, 2)"
      ]
     },
     "execution_count": 10,
     "metadata": {},
     "output_type": "execute_result"
    }
   ],
   "source": [
    "x.shape"
   ]
  },
  {
   "cell_type": "code",
   "execution_count": 11,
   "id": "ad2985e7-7195-4940-9655-cd684971b7b0",
   "metadata": {},
   "outputs": [
    {
     "data": {
      "text/plain": [
       "0    241.893563\n",
       "1    162.310473\n",
       "2    212.740856\n",
       "3    220.042470\n",
       "4    206.349801\n",
       "Name: Weight, dtype: float64"
      ]
     },
     "execution_count": 11,
     "metadata": {},
     "output_type": "execute_result"
    }
   ],
   "source": [
    "y = df['Weight']\n",
    "y.head()"
   ]
  },
  {
   "cell_type": "code",
   "execution_count": 12,
   "id": "e0cdcf13-df92-4cd7-9749-e32fb5e18d0d",
   "metadata": {},
   "outputs": [
    {
     "data": {
      "text/plain": [
       "(8555,)"
      ]
     },
     "execution_count": 12,
     "metadata": {},
     "output_type": "execute_result"
    }
   ],
   "source": [
    "y.shape"
   ]
  },
  {
   "cell_type": "code",
   "execution_count": 13,
   "id": "a4619956-b6d4-4961-a3c1-8007cf5da64e",
   "metadata": {},
   "outputs": [],
   "source": [
    "from sklearn.model_selection import train_test_split"
   ]
  },
  {
   "cell_type": "code",
   "execution_count": 14,
   "id": "d0f41598-71bd-4ae6-beb7-e1600609ef3b",
   "metadata": {},
   "outputs": [],
   "source": [
    "xTrain,xTest,yTrain,yTest = train_test_split(x,y,test_size = 0.30, random_state=42)"
   ]
  },
  {
   "cell_type": "code",
   "execution_count": 15,
   "id": "349cc20b-f2da-461b-bec0-8187afc1f0e5",
   "metadata": {},
   "outputs": [
    {
     "name": "stdout",
     "output_type": "stream",
     "text": [
      "(5988, 2) (5988,)\n"
     ]
    }
   ],
   "source": [
    "print(xTrain.shape,yTrain.shape)"
   ]
  },
  {
   "cell_type": "markdown",
   "id": "e707a35c",
   "metadata": {},
   "source": [
    "# EDA"
   ]
  },
  {
   "cell_type": "code",
   "execution_count": 16,
   "id": "366e4e04",
   "metadata": {},
   "outputs": [
    {
     "data": {
      "text/html": [
       "<div>\n",
       "<style scoped>\n",
       "    .dataframe tbody tr th:only-of-type {\n",
       "        vertical-align: middle;\n",
       "    }\n",
       "\n",
       "    .dataframe tbody tr th {\n",
       "        vertical-align: top;\n",
       "    }\n",
       "\n",
       "    .dataframe thead th {\n",
       "        text-align: right;\n",
       "    }\n",
       "</style>\n",
       "<table border=\"1\" class=\"dataframe\">\n",
       "  <thead>\n",
       "    <tr style=\"text-align: right;\">\n",
       "      <th></th>\n",
       "      <th>Gender</th>\n",
       "      <th>Height</th>\n",
       "      <th>Weight</th>\n",
       "    </tr>\n",
       "  </thead>\n",
       "  <tbody>\n",
       "    <tr>\n",
       "      <th>Gender</th>\n",
       "      <td>1.000000</td>\n",
       "      <td>0.682524</td>\n",
       "      <td>0.790208</td>\n",
       "    </tr>\n",
       "    <tr>\n",
       "      <th>Height</th>\n",
       "      <td>0.682524</td>\n",
       "      <td>1.000000</td>\n",
       "      <td>0.922975</td>\n",
       "    </tr>\n",
       "    <tr>\n",
       "      <th>Weight</th>\n",
       "      <td>0.790208</td>\n",
       "      <td>0.922975</td>\n",
       "      <td>1.000000</td>\n",
       "    </tr>\n",
       "  </tbody>\n",
       "</table>\n",
       "</div>"
      ],
      "text/plain": [
       "          Gender    Height    Weight\n",
       "Gender  1.000000  0.682524  0.790208\n",
       "Height  0.682524  1.000000  0.922975\n",
       "Weight  0.790208  0.922975  1.000000"
      ]
     },
     "execution_count": 16,
     "metadata": {},
     "output_type": "execute_result"
    }
   ],
   "source": [
    "df.corr()"
   ]
  },
  {
   "cell_type": "markdown",
   "id": "df6709cb",
   "metadata": {},
   "source": [
    "# Least Squared Linear Regression"
   ]
  },
  {
   "cell_type": "code",
   "execution_count": 58,
   "id": "f78c2ee3",
   "metadata": {},
   "outputs": [],
   "source": [
    "import numpy as np\n",
    "from sklearn.linear_model import LinearRegression"
   ]
  },
  {
   "cell_type": "code",
   "execution_count": 59,
   "id": "8957c75c-5b4f-45dd-93f2-673da31f8efa",
   "metadata": {},
   "outputs": [],
   "source": [
    "reg_model = LinearRegression().fit(xTrain,yTrain)"
   ]
  },
  {
   "cell_type": "code",
   "execution_count": 60,
   "id": "62695f47-06db-4410-a5d2-38bb5169ef1a",
   "metadata": {},
   "outputs": [
    {
     "data": {
      "text/plain": [
       "array([19.54151693,  5.9562333 ])"
      ]
     },
     "execution_count": 60,
     "metadata": {},
     "output_type": "execute_result"
    }
   ],
   "source": [
    "reg_model.coef_"
   ]
  },
  {
   "cell_type": "code",
   "execution_count": 61,
   "id": "857ada5a-2f5e-4da6-a1d5-2a47021816b2",
   "metadata": {},
   "outputs": [
    {
     "data": {
      "text/plain": [
       "np.float64(-243.79306041624142)"
      ]
     },
     "execution_count": 61,
     "metadata": {},
     "output_type": "execute_result"
    }
   ],
   "source": [
    "reg_model.intercept_"
   ]
  },
  {
   "cell_type": "code",
   "execution_count": 62,
   "id": "f46ae981-fee1-4375-9263-eb78e648926c",
   "metadata": {},
   "outputs": [
    {
     "name": "stdout",
     "output_type": "stream",
     "text": [
      "LinearRegression: Training accuracy is = 89.73793060969246 and test accuracy is = 90.59112424422659\n"
     ]
    }
   ],
   "source": [
    "reg_training_a = reg_model.score(xTrain,yTrain)*100\n",
    "reg_test_a = reg_model.score(xTest,yTest)*100\n",
    "print(f\"LinearRegression: Training accuracy is = {reg_training_a} and test accuracy is = {reg_test_a}\")"
   ]
  },
  {
   "cell_type": "code",
   "execution_count": 63,
   "id": "d4bb7659-accd-41d6-bb24-7c80d021a958",
   "metadata": {},
   "outputs": [
    {
     "data": {
      "text/plain": [
       "(2567,)"
      ]
     },
     "execution_count": 63,
     "metadata": {},
     "output_type": "execute_result"
    }
   ],
   "source": [
    "yPred = reg_model.predict(xTest)\n",
    "yPred.shape"
   ]
  },
  {
   "cell_type": "code",
   "execution_count": 64,
   "id": "f24511ae-f848-431d-b413-b17a722c1f10",
   "metadata": {},
   "outputs": [
    {
     "data": {
      "text/plain": [
       "(2567,)"
      ]
     },
     "execution_count": 64,
     "metadata": {},
     "output_type": "execute_result"
    }
   ],
   "source": [
    "yTest.shape"
   ]
  },
  {
   "cell_type": "code",
   "execution_count": 65,
   "id": "b63ebf4a-ca59-4871-b164-9c11c0fe6a63",
   "metadata": {},
   "outputs": [],
   "source": [
    "from sklearn.metrics import mean_squared_error"
   ]
  },
  {
   "cell_type": "code",
   "execution_count": 66,
   "id": "47ab049d-1c9c-4b4a-98ad-3df5e7ce25f6",
   "metadata": {},
   "outputs": [
    {
     "data": {
      "text/plain": [
       "96.8373443783061"
      ]
     },
     "execution_count": 66,
     "metadata": {},
     "output_type": "execute_result"
    }
   ],
   "source": [
    "reg_mse = mean_squared_error(yTest,yPred)\n",
    "reg_mse"
   ]
  },
  {
   "cell_type": "code",
   "execution_count": 67,
   "id": "41027b1d-8fc3-4be3-97c2-cb6212c8860b",
   "metadata": {},
   "outputs": [],
   "source": [
    "reg_x = np.array(['Training Accuracy', 'Test Accuracy', 'MSE'])\n",
    "reg_y = np.array([reg_training_a,reg_test_a,reg_mse])"
   ]
  },
  {
   "cell_type": "code",
   "execution_count": 68,
   "id": "01ceed30-2e97-49a7-b082-b9f59774a840",
   "metadata": {},
   "outputs": [
    {
     "data": {
      "text/plain": [
       "numpy.ndarray"
      ]
     },
     "execution_count": 68,
     "metadata": {},
     "output_type": "execute_result"
    }
   ],
   "source": [
    "type(reg_x)"
   ]
  },
  {
   "cell_type": "code",
   "execution_count": 69,
   "id": "5a6caafc-b5f5-4f9a-8816-c34d38a9e0b0",
   "metadata": {},
   "outputs": [],
   "source": [
    "import matplotlib.pyplot as plt"
   ]
  },
  {
   "cell_type": "code",
   "execution_count": 70,
   "id": "e6bf6168-06e4-4e4d-bbd2-442a642a67ca",
   "metadata": {},
   "outputs": [
    {
     "data": {
      "image/png": "[encoded data removed]",
      "text/plain": [
       "<Figure size 640x480 with 1 Axes>"
      ]
     },
     "metadata": {},
     "output_type": "display_data"
    }
   ],
   "source": [
    "plt.bar(reg_x,reg_y)\n",
    "plt.show()"
   ]
  },
  {
   "cell_type": "markdown",
   "id": "524ff63c-6d89-47e6-a5b0-c607c80e4504",
   "metadata": {},
   "source": [
    "# KNN Regression"
   ]
  },
  {
   "cell_type": "code",
   "execution_count": 71,
   "id": "ce7484d2-b785-40f9-9996-4f0b326a68ec",
   "metadata": {},
   "outputs": [],
   "source": [
    "from sklearn.neighbors import KNeighborsRegressor"
   ]
  },
  {
   "cell_type": "code",
   "execution_count": 73,
   "id": "fd0ba9b0-0e58-4229-a1e5-e0a56fdd0a0f",
   "metadata": {},
   "outputs": [],
   "source": [
    "knn_reg_model = KNeighborsRegressor().fit(xTrain,yTrain)"
   ]
  },
  {
   "cell_type": "code",
   "execution_count": 74,
   "id": "9b1e6d7f-1842-4285-ba5a-3a3c59ea7b27",
   "metadata": {},
   "outputs": [
    {
     "name": "stdout",
     "output_type": "stream",
     "text": [
      "KNeighborsRegressor: Training accuracy is = 91.72142723737919 and test accuracy is = 88.21086423439016\n"
     ]
    }
   ],
   "source": [
    "knn_reg_train_a = knn_reg_model.score(xTrain,yTrain)*100\n",
    "knn_reg_test_a = knn_reg_model.score(xTest,yTest)*100\n",
    "print(f\"KNeighborsRegressor: Training accuracy is = {knn_reg_train_a} and test accuracy is = {knn_reg_test_a}\")"
   ]
  },
  {
   "cell_type": "code",
   "execution_count": 75,
   "id": "224e5839-3f93-4b4e-8489-4b64c7174479",
   "metadata": {},
   "outputs": [
    {
     "data": {
      "text/plain": [
       "(2567,)"
      ]
     },
     "execution_count": 75,
     "metadata": {},
     "output_type": "execute_result"
    }
   ],
   "source": [
    "knn_yPred = knn_reg_model.predict(xTest)\n",
    "knn_yPred.shape"
   ]
  },
  {
   "cell_type": "code",
   "execution_count": 76,
   "id": "e54ec5a8-7f24-4aff-adf0-92388f6f8774",
   "metadata": {},
   "outputs": [
    {
     "data": {
      "text/plain": [
       "121.33528273624482"
      ]
     },
     "execution_count": 76,
     "metadata": {},
     "output_type": "execute_result"
    }
   ],
   "source": [
    "knn_reg_mse = mean_squared_error(yTest,knn_yPred)\n",
    "knn_reg_mse"
   ]
  },
  {
   "cell_type": "code",
   "execution_count": 77,
   "id": "812913f0-28f5-4637-a2e8-e32975e5d0ff",
   "metadata": {},
   "outputs": [
    {
     "data": {
      "image/png": "[encoded data removed]",
      "text/plain": [
       "<Figure size 640x480 with 1 Axes>"
      ]
     },
     "metadata": {},
     "output_type": "display_data"
    }
   ],
   "source": [
    "knn_reg_x = np.array(['Training Accuracy', 'Test Accuracy', 'MSE'])\n",
    "knn_reg_y = np.array([knn_reg_train_a,knn_reg_test_a,knn_reg_mse])\n",
    "plt.bar(knn_reg_x,knn_reg_y)\n",
    "plt.show()"
   ]
  },
  {
   "cell_type": "code",
   "execution_count": 106,
   "id": "0f4f18bc-4a7d-476e-af05-41a68978ba3a",
   "metadata": {},
   "outputs": [
    {
     "data": {
      "image/png": "[encoded data removed]",
      "text/plain": [
       "<Figure size 640x480 with 1 Axes>"
      ]
     },
     "metadata": {},
     "output_type": "display_data"
    }
   ],
   "source": [
    "kr_x = np.array(['KNN Regression Model', 'Linear Regression Model'])\n",
    "kr_train_scores = np.array([knn_reg_train_a, reg_training_a])\n",
    "kr_test_scores  = np.array([knn_reg_test_a, reg_test_a])\n",
    "kr_x_po = np.arange(len(kr_x))\n",
    "width = 0.35\n",
    "# Plot\n",
    "plt.bar(kr_x_po - width/2, kr_train_scores, width, label='Train Accuracy')\n",
    "plt.bar(kr_x_po + width/2, kr_test_scores, width, label='Test Accuracy')\n",
    "plt.xticks(kr_x_po, kr_x)\n",
    "plt.ylabel('Accuracy')\n",
    "plt.title('Training vs Testing Accuracy')\n",
    "plt.legend()\n",
    "plt.show()"
   ]
  },
  {
   "cell_type": "markdown",
   "id": "8e1165e3",
   "metadata": {},
   "source": [
    "# Regression Problem"
   ]
  },
  {
   "cell_type": "code",
   "execution_count": null,
   "id": "71e6c1ea",
   "metadata": {},
   "outputs": [],
   "source": []
  },
  {
   "cell_type": "markdown",
   "id": "c6191995",
   "metadata": {},
   "source": [
    "# Classification Problem"
   ]
  },
  {
   "cell_type": "markdown",
   "id": "18474b4b-e89f-435d-9f1c-9cdd9de3d218",
   "metadata": {},
   "source": [
    "## Logistic Regression"
   ]
  },
  {
   "cell_type": "code",
   "execution_count": 107,
   "id": "2f86ec2c-b089-4c5d-a318-015e0bf205ba",
   "metadata": {},
   "outputs": [
    {
     "data": {
      "text/html": [
       "<div>\n",
       "<style scoped>\n",
       "    .dataframe tbody tr th:only-of-type {\n",
       "        vertical-align: middle;\n",
       "    }\n",
       "\n",
       "    .dataframe tbody tr th {\n",
       "        vertical-align: top;\n",
       "    }\n",
       "\n",
       "    .dataframe thead th {\n",
       "        text-align: right;\n",
       "    }\n",
       "</style>\n",
       "<table border=\"1\" class=\"dataframe\">\n",
       "  <thead>\n",
       "    <tr style=\"text-align: right;\">\n",
       "      <th></th>\n",
       "      <th>Gender</th>\n",
       "      <th>Height</th>\n",
       "      <th>Weight</th>\n",
       "    </tr>\n",
       "  </thead>\n",
       "  <tbody>\n",
       "    <tr>\n",
       "      <th>0</th>\n",
       "      <td>1</td>\n",
       "      <td>73.847017</td>\n",
       "      <td>241.893563</td>\n",
       "    </tr>\n",
       "    <tr>\n",
       "      <th>1</th>\n",
       "      <td>1</td>\n",
       "      <td>68.781904</td>\n",
       "      <td>162.310473</td>\n",
       "    </tr>\n",
       "    <tr>\n",
       "      <th>2</th>\n",
       "      <td>1</td>\n",
       "      <td>74.110105</td>\n",
       "      <td>212.740856</td>\n",
       "    </tr>\n",
       "    <tr>\n",
       "      <th>3</th>\n",
       "      <td>1</td>\n",
       "      <td>71.730978</td>\n",
       "      <td>220.042470</td>\n",
       "    </tr>\n",
       "    <tr>\n",
       "      <th>4</th>\n",
       "      <td>1</td>\n",
       "      <td>69.881796</td>\n",
       "      <td>206.349801</td>\n",
       "    </tr>\n",
       "  </tbody>\n",
       "</table>\n",
       "</div>"
      ],
      "text/plain": [
       "   Gender     Height      Weight\n",
       "0       1  73.847017  241.893563\n",
       "1       1  68.781904  162.310473\n",
       "2       1  74.110105  212.740856\n",
       "3       1  71.730978  220.042470\n",
       "4       1  69.881796  206.349801"
      ]
     },
     "execution_count": 107,
     "metadata": {},
     "output_type": "execute_result"
    }
   ],
   "source": [
    "df.head()"
   ]
  },
  {
   "cell_type": "code",
   "execution_count": 108,
   "id": "ece75d14-82f6-4c16-a6a5-a39c91b03509",
   "metadata": {},
   "outputs": [
    {
     "data": {
      "text/html": [
       "<div>\n",
       "<style scoped>\n",
       "    .dataframe tbody tr th:only-of-type {\n",
       "        vertical-align: middle;\n",
       "    }\n",
       "\n",
       "    .dataframe tbody tr th {\n",
       "        vertical-align: top;\n",
       "    }\n",
       "\n",
       "    .dataframe thead th {\n",
       "        text-align: right;\n",
       "    }\n",
       "</style>\n",
       "<table border=\"1\" class=\"dataframe\">\n",
       "  <thead>\n",
       "    <tr style=\"text-align: right;\">\n",
       "      <th></th>\n",
       "      <th>Height</th>\n",
       "      <th>Weight</th>\n",
       "    </tr>\n",
       "  </thead>\n",
       "  <tbody>\n",
       "    <tr>\n",
       "      <th>0</th>\n",
       "      <td>73.847017</td>\n",
       "      <td>241.893563</td>\n",
       "    </tr>\n",
       "    <tr>\n",
       "      <th>1</th>\n",
       "      <td>68.781904</td>\n",
       "      <td>162.310473</td>\n",
       "    </tr>\n",
       "    <tr>\n",
       "      <th>2</th>\n",
       "      <td>74.110105</td>\n",
       "      <td>212.740856</td>\n",
       "    </tr>\n",
       "    <tr>\n",
       "      <th>3</th>\n",
       "      <td>71.730978</td>\n",
       "      <td>220.042470</td>\n",
       "    </tr>\n",
       "    <tr>\n",
       "      <th>4</th>\n",
       "      <td>69.881796</td>\n",
       "      <td>206.349801</td>\n",
       "    </tr>\n",
       "  </tbody>\n",
       "</table>\n",
       "</div>"
      ],
      "text/plain": [
       "      Height      Weight\n",
       "0  73.847017  241.893563\n",
       "1  68.781904  162.310473\n",
       "2  74.110105  212.740856\n",
       "3  71.730978  220.042470\n",
       "4  69.881796  206.349801"
      ]
     },
     "execution_count": 108,
     "metadata": {},
     "output_type": "execute_result"
    }
   ],
   "source": [
    "xx = df.drop(['Gender'],axis=1)\n",
    "xx.head()"
   ]
  },
  {
   "cell_type": "code",
   "execution_count": 109,
   "id": "8ebffb97-cbdc-49ce-a023-22e3658a8230",
   "metadata": {},
   "outputs": [
    {
     "data": {
      "text/plain": [
       "(8555, 2)"
      ]
     },
     "execution_count": 109,
     "metadata": {},
     "output_type": "execute_result"
    }
   ],
   "source": [
    "xx.shape"
   ]
  },
  {
   "cell_type": "code",
   "execution_count": 110,
   "id": "7bed81ed-0327-4a2f-aa2f-e42116c7d017",
   "metadata": {},
   "outputs": [],
   "source": [
    "yy = df['Gender']"
   ]
  },
  {
   "cell_type": "code",
   "execution_count": 111,
   "id": "cdf3fcd6-1898-4293-954b-baa153f9b802",
   "metadata": {},
   "outputs": [
    {
     "data": {
      "text/plain": [
       "(8555,)"
      ]
     },
     "execution_count": 111,
     "metadata": {},
     "output_type": "execute_result"
    }
   ],
   "source": [
    "yy.shape"
   ]
  },
  {
   "cell_type": "code",
   "execution_count": 112,
   "id": "6a57d47c-3421-4a2f-90f4-521c13919cb2",
   "metadata": {},
   "outputs": [],
   "source": [
    "x_train,x_test,y_train,y_test = train_test_split(xx,yy,test_size = 0.30, random_state=42)"
   ]
  },
  {
   "cell_type": "code",
   "execution_count": 113,
   "id": "c64f4426-bc52-4dde-b01b-221fe041ff93",
   "metadata": {},
   "outputs": [
    {
     "data": {
      "text/plain": [
       "(5988, 2)"
      ]
     },
     "execution_count": 113,
     "metadata": {},
     "output_type": "execute_result"
    }
   ],
   "source": [
    "x_train.shape"
   ]
  },
  {
   "cell_type": "code",
   "execution_count": 114,
   "id": "12b77dab-be96-4b58-9f46-278e124bcba7",
   "metadata": {},
   "outputs": [
    {
     "data": {
      "text/plain": [
       "(5988,)"
      ]
     },
     "execution_count": 114,
     "metadata": {},
     "output_type": "execute_result"
    }
   ],
   "source": [
    "y_train.shape"
   ]
  },
  {
   "cell_type": "code",
   "execution_count": 115,
   "id": "53f82d4d-e23a-44c6-9492-61be8f96245f",
   "metadata": {},
   "outputs": [
    {
     "data": {
      "text/plain": [
       "6006    0\n",
       "1197    1\n",
       "2862    1\n",
       "6497    0\n",
       "2860    1\n",
       "Name: Gender, dtype: int64"
      ]
     },
     "execution_count": 115,
     "metadata": {},
     "output_type": "execute_result"
    }
   ],
   "source": [
    "y_test.head()"
   ]
  },
  {
   "cell_type": "code",
   "execution_count": 116,
   "id": "6eafcd2f-d8c5-4e45-8ef5-8fc994365e54",
   "metadata": {},
   "outputs": [],
   "source": [
    "from sklearn.linear_model import LogisticRegression"
   ]
  },
  {
   "cell_type": "code",
   "execution_count": 117,
   "id": "56900336-c38a-4efb-9d7e-c91afc6c55b6",
   "metadata": {},
   "outputs": [],
   "source": [
    "lo_reg_model = LogisticRegression(random_state=0).fit(x_train,y_train)"
   ]
  },
  {
   "cell_type": "code",
   "execution_count": 118,
   "id": "5e3f7519-43d2-4dc8-bf9d-f78496c82be0",
   "metadata": {},
   "outputs": [
    {
     "name": "stdout",
     "output_type": "stream",
     "text": [
      "LogisticRegression: training accuracy is 91.73346693386773 and test accuracy is 91.85820023373587\n"
     ]
    }
   ],
   "source": [
    "lo_reg_train_a = lo_reg_model.score(x_train,y_train)*100\n",
    "lo_reg_test_a = lo_reg_model.score(x_test,y_test)*100\n",
    "print(f\"LogisticRegression: training accuracy is {lo_reg_train_a} and test accuracy is {lo_reg_test_a}\")"
   ]
  },
  {
   "cell_type": "code",
   "execution_count": 119,
   "id": "bf8ccdc4-765d-4b07-a764-58e16cddbec3",
   "metadata": {},
   "outputs": [
    {
     "data": {
      "image/png": "[encoded data removed]",
      "text/plain": [
       "<Figure size 640x480 with 1 Axes>"
      ]
     },
     "metadata": {},
     "output_type": "display_data"
    }
   ],
   "source": [
    "lo_reg_x = np.array(['Training Accuracy', 'Test Accuracy'])\n",
    "lo_reg_y = np.array([lo_reg_train_a,lo_reg_test_a])\n",
    "plt.bar(lo_reg_x,lo_reg_y)\n",
    "plt.show()"
   ]
  },
  {
   "cell_type": "markdown",
   "id": "8b8dc3cd-8ff6-4802-9a85-013b8ad051a1",
   "metadata": {},
   "source": [
    "## KNN Classifier"
   ]
  },
  {
   "cell_type": "code",
   "execution_count": 120,
   "id": "942f6cae-54c4-4789-b9f0-266895a9bbfb",
   "metadata": {},
   "outputs": [],
   "source": [
    "from sklearn.neighbors import KNeighborsClassifier"
   ]
  },
  {
   "cell_type": "code",
   "execution_count": 121,
   "id": "93c4ccb8-8876-4510-9458-f28452e0e311",
   "metadata": {},
   "outputs": [],
   "source": [
    "knn_cls_model = KNeighborsClassifier().fit(x_train,y_train)"
   ]
  },
  {
   "cell_type": "code",
   "execution_count": 122,
   "id": "a50d7737-a2a8-4da2-8988-4b6c2c3a35bf",
   "metadata": {},
   "outputs": [
    {
     "name": "stdout",
     "output_type": "stream",
     "text": [
      "KNeighborsClassifier: training accuracy is 92.9191716766867 and test accuracy is 91.31281651733542\n"
     ]
    }
   ],
   "source": [
    "knn_cls_train_a = knn_cls_model.score(x_train,y_train)*100\n",
    "knn_cls_test_a = knn_cls_model.score(x_test,y_test)*100\n",
    "print(f\"KNeighborsClassifier: training accuracy is {knn_cls_train_a} and test accuracy is {knn_cls_test_a}\")"
   ]
  },
  {
   "cell_type": "markdown",
   "id": "8a629ca9",
   "metadata": {},
   "source": [
    "# Comparison of Linear Rgeression and KNN Regressor"
   ]
  },
  {
   "cell_type": "code",
   "execution_count": 135,
   "id": "51d7d8cd",
   "metadata": {},
   "outputs": [
    {
     "data": {
      "image/png": "[encoded data removed]",
      "text/plain": [
       "<Figure size 800x500 with 1 Axes>"
      ]
     },
     "metadata": {},
     "output_type": "display_data"
    }
   ],
   "source": [
    "import seaborn as sns\n",
    "\n",
    "# Data\n",
    "kr_x = ['KNN Regression Model', 'Linear Regression Model']\n",
    "kr_train_scores = [knn_reg_train_a, reg_training_a]\n",
    "kr_test_scores  = [knn_reg_test_a, reg_test_a]\n",
    "\n",
    "# Convert into tidy DataFrame\n",
    "df = pd.DataFrame({\n",
    "    'Model': kr_x * 2,\n",
    "    'Accuracy': kr_train_scores + kr_test_scores,\n",
    "    'Dataset': ['Train'] * len(kr_x) + ['Test'] * len(kr_x)\n",
    "})\n",
    "\n",
    "# Plot\n",
    "plt.figure(figsize=(8,5))\n",
    "ax = sns.barplot(x='Model', y='Accuracy', hue='Dataset', data=df)\n",
    "\n",
    "# Add value labels on top of bars\n",
    "for p in ax.patches:\n",
    "    ax.text(p.get_x() + p.get_width() / 2,\n",
    "            p.get_height() + 0.5,    # little above bar\n",
    "            f'{p.get_height():.2f}', # show with 2 decimals\n",
    "            ha='center')\n",
    "\n",
    "plt.title('Training vs Testing Accuracy')\n",
    "plt.ylabel('Accuracy')\n",
    "plt.xlabel('Regression Models')\n",
    "plt.show()\n"
   ]
  },
  {
   "cell_type": "markdown",
   "id": "d479c927",
   "metadata": {},
   "source": [
    "# Comparison of Logistic Rgeression and KNN Classifier"
   ]
  },
  {
   "cell_type": "code",
   "execution_count": 136,
   "id": "a876cc5c",
   "metadata": {},
   "outputs": [
    {
     "data": {
      "image/png": "[encoded data removed]",
      "text/plain": [
       "<Figure size 800x500 with 1 Axes>"
      ]
     },
     "metadata": {},
     "output_type": "display_data"
    }
   ],
   "source": [
    "#plot\n",
    "kr_x = ['Logistic Regression', 'KNN Classifier']\n",
    "kr_train_scores = [lo_reg_train_a, knn_cls_train_a]\n",
    "kr_test_scores  = [lo_reg_test_a, knn_cls_test_a]\n",
    "\n",
    "# Convert into tidy DataFrame\n",
    "df = pd.DataFrame({\n",
    "    'Model': kr_x * 2,\n",
    "    'Accuracy': kr_train_scores + kr_test_scores,\n",
    "    'Dataset': ['Train'] * len(kr_x) + ['Test'] * len(kr_x)\n",
    "})\n",
    "\n",
    "# Plot\n",
    "plt.figure(figsize=(8,5))\n",
    "ax = sns.barplot(x='Model', y='Accuracy', hue='Dataset', data=df)\n",
    "\n",
    "# Add value labels on top of bars\n",
    "for p in ax.patches:\n",
    "    ax.text(p.get_x() + p.get_width() / 2,\n",
    "            p.get_height() + 0.5,    # little above bar\n",
    "            f'{p.get_height():.2f}', # show with 2 decimals\n",
    "            ha='center')\n",
    "\n",
    "plt.title('Training vs Testing Accuracy')\n",
    "plt.ylabel('Accuracy')\n",
    "plt.xlabel('Regression Models')\n",
    "plt.show()"
   ]
  },
  {
   "cell_type": "code",
   "execution_count": null,
   "id": "4ccd7a32",
   "metadata": {},
   "outputs": [],
   "source": []
  }
 ],
 "metadata": {
  "kernelspec": {
   "display_name": "Python [conda env:base] *",
   "language": "python",
   "name": "conda-base-py"
  },
  "language_info": {
   "codemirror_mode": {
    "name": "ipython",
    "version": 3
   },
   "file_extension": ".py",
   "mimetype": "text/x-python",
   "name": "python",
   "nbconvert_exporter": "python",
   "pygments_lexer": "ipython3",
   "version": "3.13.5"
  }
 },
 "nbformat": 4,
 "nbformat_minor": 5
}
